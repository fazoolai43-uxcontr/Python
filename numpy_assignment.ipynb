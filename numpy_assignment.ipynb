{
 "cells": [
  {
   "cell_type": "code",
   "execution_count": 15,
   "id": "e98cd8d4",
   "metadata": {},
   "outputs": [],
   "source": [
    "import numpy as np"
   ]
  },
  {
   "cell_type": "code",
   "execution_count": null,
   "id": "35e7f8fe",
   "metadata": {},
   "outputs": [],
   "source": [
    "# list_of_numbers = [18,28,33,85,33,86,52,86,56,10]\n",
    "list_of_numbers = []\n",
    "num = int(input(\"Enter the length of array: \"))\n",
    "for i in num:\n",
    "    \n",
    "my_array = np.array(list_of_numbers)"
   ]
  },
  {
   "cell_type": "code",
   "execution_count": 17,
   "id": "4459fa51",
   "metadata": {},
   "outputs": [
    {
     "data": {
      "text/plain": [
       "array([18, 28, 33, 85, 33, 86, 52, 86, 56, 10])"
      ]
     },
     "execution_count": 17,
     "metadata": {},
     "output_type": "execute_result"
    }
   ],
   "source": [
    "my_array"
   ]
  },
  {
   "cell_type": "code",
   "execution_count": 18,
   "id": "d91922c7",
   "metadata": {},
   "outputs": [
    {
     "name": "stdout",
     "output_type": "stream",
     "text": [
      "48.7\n"
     ]
    }
   ],
   "source": [
    "# average\n",
    "average = np.mean(my_array)\n",
    "print(average)"
   ]
  },
  {
   "cell_type": "code",
   "execution_count": 19,
   "id": "be3eafcb",
   "metadata": {},
   "outputs": [
    {
     "name": "stdout",
     "output_type": "stream",
     "text": [
      "487\n"
     ]
    }
   ],
   "source": [
    "# sum of all numbers\n",
    "sum = np.sum(my_array)\n",
    "print(sum)"
   ]
  },
  {
   "cell_type": "code",
   "execution_count": 20,
   "id": "62ea18e5",
   "metadata": {},
   "outputs": [
    {
     "name": "stdout",
     "output_type": "stream",
     "text": [
      "752.6099999999999\n"
     ]
    }
   ],
   "source": [
    "# variance \n",
    "\n",
    "var = np.var(my_array)\n",
    "print(var)"
   ]
  },
  {
   "cell_type": "code",
   "execution_count": null,
   "id": "bd55a46d",
   "metadata": {},
   "outputs": [
    {
     "ename": "IndexError",
     "evalue": "list index out of range",
     "output_type": "error",
     "traceback": [
      "\u001b[31m---------------------------------------------------------------------------\u001b[39m",
      "\u001b[31mIndexError\u001b[39m                                Traceback (most recent call last)",
      "\u001b[36mCell\u001b[39m\u001b[36m \u001b[39m\u001b[32mIn[30]\u001b[39m\u001b[32m, line 4\u001b[39m\n\u001b[32m      2\u001b[39m a = \u001b[38;5;28minput\u001b[39m(\u001b[33m\"\u001b[39m\u001b[33mEnter a number that you can use as power: \u001b[39m\u001b[33m\"\u001b[39m)\n\u001b[32m      3\u001b[39m \u001b[38;5;28;01mfor\u001b[39;00m i \u001b[38;5;129;01min\u001b[39;00m list_of_numbers:\n\u001b[32m----> \u001b[39m\u001b[32m4\u001b[39m     \u001b[43mlist_of_numbers\u001b[49m\u001b[43m[\u001b[49m\u001b[43mi\u001b[49m\u001b[43m]\u001b[49m * a\n\u001b[32m      7\u001b[39m my_arr = list_of_numbers.append(i)\n\u001b[32m      8\u001b[39m \u001b[38;5;28mprint\u001b[39m(my_arr)\n",
      "\u001b[31mIndexError\u001b[39m: list index out of range"
     ]
    }
   ],
   "source": [
    "# Power\n",
    "a = input(\"Enter a number that you can use as power: \")\n",
    "for i in list_of_numbers:\n",
    "     b =list_of_numbers[i] * a\n",
    "\n",
    "\n",
    "my_arr = list_of_numbers.append(i)\n",
    "print(my_arr)"
   ]
  },
  {
   "cell_type": "code",
   "execution_count": 21,
   "id": "7fe57ee8",
   "metadata": {},
   "outputs": [
    {
     "name": "stdout",
     "output_type": "stream",
     "text": [
      "86\n"
     ]
    }
   ],
   "source": [
    "# maximum number \n",
    "\n",
    "max_num = np.max(my_array)\n",
    "print(max_num)"
   ]
  },
  {
   "cell_type": "code",
   "execution_count": 29,
   "id": "ca135da2",
   "metadata": {},
   "outputs": [
    {
     "name": "stdout",
     "output_type": "stream",
     "text": [
      "42.5\n"
     ]
    }
   ],
   "source": [
    "# median \n",
    "\n",
    "median = np.median(my_array)\n",
    "print(median)"
   ]
  },
  {
   "cell_type": "code",
   "execution_count": 22,
   "id": "8c9f68a8",
   "metadata": {},
   "outputs": [
    {
     "name": "stdout",
     "output_type": "stream",
     "text": [
      "10\n"
     ]
    }
   ],
   "source": [
    "# minimum number\n",
    "\n",
    "min_num = np.min(my_array)\n",
    "print(min_num)"
   ]
  },
  {
   "cell_type": "code",
   "execution_count": 26,
   "id": "18cc55dd",
   "metadata": {},
   "outputs": [
    {
     "name": "stdout",
     "output_type": "stream",
     "text": [
      "42.5\n"
     ]
    }
   ],
   "source": [
    "# percentile \n",
    "\n",
    "per = np.percentile(my_array,50)\n",
    "print(per)"
   ]
  },
  {
   "cell_type": "code",
   "execution_count": null,
   "id": "a7d5e4a6",
   "metadata": {},
   "outputs": [
    {
     "name": "stdout",
     "output_type": "stream",
     "text": [
      "27.433738352619752\n"
     ]
    }
   ],
   "source": [
    "# Standard Deviation\n",
    "std_dev = np.std(my_array)\n",
    "print(std_dev)"
   ]
  },
  {
   "cell_type": "code",
   "execution_count": 28,
   "id": "7ddc93d3",
   "metadata": {},
   "outputs": [
    {
     "name": "stdout",
     "output_type": "stream",
     "text": [
      "30.865689963218337\n"
     ]
    }
   ],
   "source": [
    "# Harmonic mean \n",
    "\n",
    "har_mean = len(my_array) / np.sum(1/my_array)\n",
    "print(har_mean)"
   ]
  }
 ],
 "metadata": {
  "kernelspec": {
   "display_name": "base",
   "language": "python",
   "name": "python3"
  },
  "language_info": {
   "codemirror_mode": {
    "name": "ipython",
    "version": 3
   },
   "file_extension": ".py",
   "mimetype": "text/x-python",
   "name": "python",
   "nbconvert_exporter": "python",
   "pygments_lexer": "ipython3",
   "version": "3.13.5"
  }
 },
 "nbformat": 4,
 "nbformat_minor": 5
}
